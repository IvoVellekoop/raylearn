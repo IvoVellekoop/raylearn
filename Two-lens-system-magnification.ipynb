{
 "cells": [
  {
   "cell_type": "markdown",
   "metadata": {},
   "source": [
    "## Two Lens System\n",
    "![two-lens-system](img/two-lens-system.jpg)"
   ]
  },
  {
   "cell_type": "code",
   "execution_count": 15,
   "metadata": {},
   "outputs": [],
   "source": [
    "import sympy as sp\n",
    "\n",
    "x1, x1a, x2, x2a = sp.symbols(\"x_1 x'_1 x_2 x'_2\", real=True)\n",
    "f1, f2, L = sp.symbols(\"f_1 f_2 L\", real=True)\n",
    "s1, s1a, s2, s2a = sp.symbols(\"s_1 s'_1 s_2 s'_2\", real=True)\n",
    "\n",
    "x1a = f1**2 / x1     # Newtonian Lens Formula\n",
    "x2  = -x1a + L\n",
    "x2a = f2**2 / x2     # Newtonian Lens Formula\n",
    "\n",
    "s1  = f1 + x1\n",
    "s1a = f1 + x1a\n",
    "s2  = f2 + x2\n",
    "s2a = f2 + x2a"
   ]
  },
  {
   "cell_type": "code",
   "execution_count": 31,
   "metadata": {},
   "outputs": [
    {
     "data": {
      "text/latex": [
       "$\\displaystyle \\frac{f_{2}^{2}}{L x_{1} - f_{1}^{2}}$"
      ],
      "text/plain": [
       "f_2**2/(L*x_1 - f_1**2)"
      ]
     },
     "execution_count": 31,
     "metadata": {},
     "output_type": "execute_result"
    }
   ],
   "source": [
    "Mlat = sp.simplify(x2a / x1)\n",
    "Mlat"
   ]
  },
  {
   "cell_type": "code",
   "execution_count": 28,
   "metadata": {},
   "outputs": [
    {
     "data": {
      "text/latex": [
       "$\\displaystyle \\frac{f_{1} f_{2}}{L x_{1} - f_{1}^{2}}$"
      ],
      "text/plain": [
       "f_1*f_2/(L*x_1 - f_1**2)"
      ]
     },
     "execution_count": 28,
     "metadata": {},
     "output_type": "execute_result"
    }
   ],
   "source": [
    "Mtrans = sp.simplify((s1a*s2a) / (s1*s2))\n",
    "Mtrans"
   ]
  },
  {
   "cell_type": "markdown",
   "metadata": {},
   "source": [
    "---\n",
    "For a 4f-system, $L=0$. Yielding the simplificated forms:"
   ]
  },
  {
   "cell_type": "code",
   "execution_count": 29,
   "metadata": {},
   "outputs": [
    {
     "data": {
      "text/latex": [
       "$\\displaystyle - \\frac{f_{2}^{2}}{f_{1}^{2}}$"
      ],
      "text/plain": [
       "-f_2**2/f_1**2"
      ]
     },
     "execution_count": 29,
     "metadata": {},
     "output_type": "execute_result"
    }
   ],
   "source": [
    "Mlat.subs(L,0)"
   ]
  },
  {
   "cell_type": "code",
   "execution_count": 30,
   "metadata": {},
   "outputs": [
    {
     "data": {
      "text/latex": [
       "$\\displaystyle - \\frac{f_{2}}{f_{1}}$"
      ],
      "text/plain": [
       "-f_2/f_1"
      ]
     },
     "execution_count": 30,
     "metadata": {},
     "output_type": "execute_result"
    }
   ],
   "source": [
    "Mtrans.subs(L,0)"
   ]
  }
 ],
 "metadata": {
  "kernelspec": {
   "display_name": "Python 3",
   "language": "python",
   "name": "python3"
  },
  "language_info": {
   "codemirror_mode": {
    "name": "ipython",
    "version": 3
   },
   "file_extension": ".py",
   "mimetype": "text/x-python",
   "name": "python",
   "nbconvert_exporter": "python",
   "pygments_lexer": "ipython3",
   "version": "3.8.5"
  }
 },
 "nbformat": 4,
 "nbformat_minor": 4
}
