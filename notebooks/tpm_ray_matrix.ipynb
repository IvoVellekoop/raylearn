{
 "cells": [
  {
   "cell_type": "code",
   "execution_count": 1,
   "id": "c151b3ee-47ea-4de8-a871-1c659e48912e",
   "metadata": {},
   "outputs": [],
   "source": [
    "from sympy import *\n",
    "fobj2, f9, f10, f11 = symbols('f_{obj2}, f_9, f_{10}, f_{11}', real=True)"
   ]
  },
  {
   "cell_type": "code",
   "execution_count": 2,
   "id": "c0c25741-7156-450e-a145-622e981c9944",
   "metadata": {},
   "outputs": [],
   "source": [
    "def lens_matrix(f):\n",
    "    return Matrix([[1, 0], [-1/f, 1]])\n",
    "\n",
    "def distance_matrix_air(d):\n",
    "    return Matrix([[1, d], [0, 1]])"
   ]
  },
  {
   "cell_type": "code",
   "execution_count": 3,
   "id": "7a6de34c-814b-4677-9f53-5a885a524446",
   "metadata": {},
   "outputs": [],
   "source": [
    "Fobj2 = Matrix([[1, 0], [-1/fobj2, 1]])\n",
    "F9 = lens_matrix(f9)\n",
    "F10 = lens_matrix(f10)\n",
    "F11 = lens_matrix(f11)\n",
    "\n",
    "D_obj2 = distance_matrix_air(fobj2)\n",
    "D_9 = distance_matrix_air(f9)\n",
    "D_10 = distance_matrix_air(f10)\n",
    "D_11 = distance_matrix_air(f11)"
   ]
  },
  {
   "cell_type": "code",
   "execution_count": 4,
   "id": "b7e7023a-e126-4900-a4f2-d087b7bce872",
   "metadata": {},
   "outputs": [],
   "source": [
    "M_4f_obj2 = D_obj2 * Fobj2 * D_obj2\n",
    "M_4f_9 = D_9 * F9 * D_9\n",
    "M_4f_10 = D_10 * F10 * D_10\n",
    "M_4f_11 = D_11 * F11 * D_11\n",
    "\n",
    "M_sample_imcamnew = M_4f_obj2 * M_4f_9\n",
    "M_sample_ftcam    = M_4f_obj2 * M_4f_9 * M_4f_10\n",
    "M_sample_imcam    = M_4f_obj2 * M_4f_9 * M_4f_10 * M_4f_11"
   ]
  },
  {
   "cell_type": "code",
   "execution_count": 5,
   "id": "7155b43f-1ab2-431e-b0f8-2c2e995146b2",
   "metadata": {},
   "outputs": [
    {
     "data": {
      "text/latex": [
       "$\\displaystyle \\left[\\begin{matrix}\\frac{f_{10} f_{obj2}}{f_{9} f_{11}} & 0\\\\0 & \\frac{f_{9} f_{11}}{f_{10} f_{obj2}}\\end{matrix}\\right]$"
      ],
      "text/plain": [
       "Matrix([\n",
       "[f_{10}*f_{obj2}/(f_9*f_{11}),                            0],\n",
       "[                           0, f_9*f_{11}/(f_{10}*f_{obj2})]])"
      ]
     },
     "execution_count": 5,
     "metadata": {},
     "output_type": "execute_result"
    }
   ],
   "source": [
    "M_sample_imcam"
   ]
  },
  {
   "cell_type": "code",
   "execution_count": 6,
   "id": "35e78654-2379-4197-aa64-4982fb51e2b5",
   "metadata": {},
   "outputs": [
    {
     "data": {
      "text/latex": [
       "$\\displaystyle \\left[\\begin{matrix}0 & - \\frac{f_{10} f_{obj2}}{f_{9}}\\\\\\frac{f_{9}}{f_{10} f_{obj2}} & 0\\end{matrix}\\right]$"
      ],
      "text/plain": [
       "Matrix([\n",
       "[                    0, -f_{10}*f_{obj2}/f_9],\n",
       "[f_9/(f_{10}*f_{obj2}),                    0]])"
      ]
     },
     "execution_count": 6,
     "metadata": {},
     "output_type": "execute_result"
    }
   ],
   "source": [
    "M_sample_ftcam"
   ]
  },
  {
   "cell_type": "code",
   "execution_count": 7,
   "id": "75261aee-b94b-4c60-a36a-dd9658fa6e3a",
   "metadata": {},
   "outputs": [],
   "source": [
    "fobj1, f2B, f3B = symbols('f_{obj1}, f_{2B}, f_{3B}', real=True)\n",
    "\n",
    "# Define matrices\n",
    "Fobj1 = lens_matrix(fobj1)\n",
    "F2B = lens_matrix(f2B)\n",
    "F3B = lens_matrix(f3B)\n",
    "\n",
    "D_obj1 = distance_matrix_air(fobj1)\n",
    "D_2B = distance_matrix_air(f2B)\n",
    "D_3B = distance_matrix_air(f3B*)\n",
    "\n",
    "# Compute optical system matrices\n",
    "M_4f_23 = D_2B * F2B * D_2B * D_3B * F3B * D_3B\n",
    "\n",
    "M_SLM_to_sample = M_4f_23 * D_obj1 * Fobj1 * D_obj1"
   ]
  },
  {
   "cell_type": "code",
   "execution_count": 11,
   "id": "d4271647-3c7f-4c02-a151-782f7354997a",
   "metadata": {},
   "outputs": [
    {
     "data": {
      "text/latex": [
       "$\\displaystyle \\left[\\begin{matrix}- \\frac{f_{2B} f_{obj1}}{f_{3B}}\\\\0\\end{matrix}\\right]$"
      ],
      "text/plain": [
       "Matrix([\n",
       "[-f_{2B}*f_{obj1}/f_{3B}],\n",
       "[                      0]])"
      ]
     },
     "execution_count": 11,
     "metadata": {},
     "output_type": "execute_result"
    }
   ],
   "source": [
    "M_SLM_to_sample * Matrix([[0], [1]])"
   ]
  },
  {
   "cell_type": "code",
   "execution_count": null,
   "id": "f16db1bd-4022-4ceb-afd2-c75f2b7a6559",
   "metadata": {},
   "outputs": [],
   "source": []
  }
 ],
 "metadata": {
  "kernelspec": {
   "display_name": "Python 3 (ipykernel)",
   "language": "python",
   "name": "python3"
  },
  "language_info": {
   "codemirror_mode": {
    "name": "ipython",
    "version": 3
   },
   "file_extension": ".py",
   "mimetype": "text/x-python",
   "name": "python",
   "nbconvert_exporter": "python",
   "pygments_lexer": "ipython3",
   "version": "3.9.7"
  }
 },
 "nbformat": 4,
 "nbformat_minor": 5
}
