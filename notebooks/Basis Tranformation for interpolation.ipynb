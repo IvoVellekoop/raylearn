{
 "cells": [
  {
   "cell_type": "code",
   "execution_count": 1,
   "metadata": {},
   "outputs": [],
   "source": [
    "from sympy import *\n",
    "from sympy.solvers.solveset import linsolve\n",
    "x,y,z,a,b,c = symbols('x y z a b c')\n",
    "AB, AC, ABx, ABy, ACx, ACy = symbols('AB AC AB_x AB_y AC_x AC_y')\n",
    "A,B,C,D,T = symbols('A B C D T')\n",
    "Ax, Ay, Bx, By, Cx, Cy, Dx, Dy, Tx, Ty = symbols('A_x A_y B_x B_y C_x C_y D_x D_y T_x T_y')"
   ]
  },
  {
   "cell_type": "markdown",
   "metadata": {},
   "source": [
    "### Basis Transformation for interpolation\n",
    "\n",
    "![Basis Transformation for interpolation](img/basis-transform-interpolation.svg)\n",
    "\n",
    "\n",
    "$\\vec{A}$, $\\vec{B}$ and $\\vec{C}$ are points on the screen of arrived rays. $\\vec{T}$ is a sample point, whose intensity value needs to be interpolated from the ray intensities:\n",
    "$$ I(\\vec{T}) = I(\\vec{A}) \\;+\\; b_A\\cdot \\left(I(\\vec{B}) - I(\\vec{A})\\right) \\;+\\; c_A\\cdot \\left( I(\\vec{C}) - I(\\vec{A}) \\right) $$\n",
    "\n",
    "within the triangle: $b_A \\geq 0$, $c_A\\geq 0$ and $(b_A+c_A) < 1$\n",
    "\n",
    "Furthermore:\n",
    "$$ \\vec{AB} = \\vec{B} - \\vec{A} $$\n",
    "$$ \\vec{AC} = \\vec{C} - \\vec{A} $$\n",
    "\n",
    "$$ \\vec{T} = \\vec{A} + b_A\\vec{AB} + c_A\\vec{AC} $$\n",
    "\n",
    "The same method can be applied for the points inside $\\vec{D}$, $\\vec{B}$ and $\\vec{C}$, \n",
    "\n",
    "with $b_D>0$, $c_D>0$ and $(b_D+c_D)\\leq 1$, to cover the other half of the quadrangle."
   ]
  },
  {
   "cell_type": "markdown",
   "metadata": {},
   "source": [
    "### Solution for b and c:"
   ]
  },
  {
   "cell_type": "code",
   "execution_count": 2,
   "metadata": {},
   "outputs": [
    {
     "data": {
      "text/latex": [
       "$\\displaystyle \\left\\{\\left( \\frac{AC_{x} A_{y} - AC_{x} T_{y} - AC_{y} A_{x} + AC_{y} T_{x}}{AB_{x} AC_{y} - AB_{y} AC_{x}}, \\  \\frac{- AB_{x} A_{y} + AB_{x} T_{y} + AB_{y} A_{x} - AB_{y} T_{x}}{AB_{x} AC_{y} - AB_{y} AC_{x}}\\right)\\right\\}$"
      ],
      "text/plain": [
       "FiniteSet(((AC_x*A_y - AC_x*T_y - AC_y*A_x + AC_y*T_x)/(AB_x*AC_y - AB_y*AC_x), (-AB_x*A_y + AB_x*T_y + AB_y*A_x - AB_y*T_x)/(AB_x*AC_y - AB_y*AC_x)))"
      ]
     },
     "execution_count": 2,
     "metadata": {},
     "output_type": "execute_result"
    }
   ],
   "source": [
    "solutions = linsolve([Ax + b*ABx + c*ACx - Tx,\\\n",
    "                           Ay + b*ABy + c*ACy - Ty], (b, c))\n",
    "bA = list(solutions)[0][0]\n",
    "cA = list(solutions)[0][1]\n",
    "solutions"
   ]
  },
  {
   "cell_type": "code",
   "execution_count": 3,
   "metadata": {},
   "outputs": [
    {
     "data": {
      "text/latex": [
       "$\\displaystyle \\frac{AC_{x} \\left(A_{y} - T_{y}\\right) + AC_{y} \\left(- A_{x} + T_{x}\\right)}{AB_{x} AC_{y} - AB_{y} AC_{x}}$"
      ],
      "text/plain": [
       "(AC_x*(A_y - T_y) + AC_y*(-A_x + T_x))/(AB_x*AC_y - AB_y*AC_x)"
      ]
     },
     "execution_count": 3,
     "metadata": {},
     "output_type": "execute_result"
    }
   ],
   "source": [
    "bA_expr = collect(bA, (ACx, ACy))\n",
    "bA_expr"
   ]
  },
  {
   "cell_type": "code",
   "execution_count": 6,
   "metadata": {},
   "outputs": [
    {
     "data": {
      "text/latex": [
       "$\\displaystyle \\frac{AB_{x} \\left(- A_{y} + T_{y}\\right) + AB_{y} \\left(A_{x} - T_{x}\\right)}{AB_{x} AC_{y} - AB_{y} AC_{x}}$"
      ],
      "text/plain": [
       "(AB_x*(-A_y + T_y) + AB_y*(A_x - T_x))/(AB_x*AC_y - AB_y*AC_x)"
      ]
     },
     "execution_count": 6,
     "metadata": {},
     "output_type": "execute_result"
    }
   ],
   "source": [
    "cA_expr = collect(cA, (ABx, ABy))\n",
    "cA_expr"
   ]
  },
  {
   "cell_type": "markdown",
   "metadata": {},
   "source": [
    "So, solutions are:\n",
    "$$ \\mathrm{denom} = AB_x AC_y - AB_y AC_x $$\n",
    "\n",
    "$$ b_A = \\frac{(T_x-A_x) AC_y + (A_y-T_y) AC_x}{\\mathrm{denom}}$$\n",
    "\n",
    "$$ c_A = \\frac{(A_x-T_x)AB_y + (T_y-A_y)AB_x}{\\mathrm{denom}}$$"
   ]
  },
  {
   "cell_type": "markdown",
   "metadata": {},
   "source": [
    "### Further simplification\n",
    "These expressions contain the following pattern multiple times:\n",
    "\n",
    "$$\\mathrm{Area\\_Para}(\\vec{v}, \\vec{w}) = v_x w_y - v_y w_x$$\n",
    "\n",
    "which computes the area of the parallelogram with 2D vectors $\\vec{v}$ and $\\vec{w}$ as sides. Furthermore $\\vec{AT} = \\vec{T} - \\vec{A}$. The expressions can then be written as:\n",
    "$$ \\mathrm{denom} = \\mathrm{Area\\_Para}(\\vec{AB}, \\vec{AC})$$\n",
    "\n",
    "$$ b_A = \\frac{\\mathrm{Area\\_Para}(\\vec{AT}, \\vec{AC})}{\\mathrm{denom}}$$\n",
    "\n",
    "$$ c_A = \\frac{\\mathrm{Area\\_Para}(-\\vec{AT}, \\vec{AB})}{\\mathrm{denom}}$$"
   ]
  },
  {
   "cell_type": "code",
   "execution_count": 21,
   "metadata": {},
   "outputs": [],
   "source": [
    "# Check that the new expressions are indeed equivalent\n",
    "def area_para(v, w):\n",
    "    \"\"\"Area of parallelogram.\"\"\"\n",
    "    return v[0]*w[1] - v[1]*w[0]\n",
    "\n",
    "# Define vectors\n",
    "AB = (ABx, ABy)\n",
    "AC = (ACx, ACy)\n",
    "AT = (Tx-Ax, Ty-Ay)\n",
    "TA = (Ax-Tx, Ay-Ty)\n",
    "\n",
    "# New expressions\n",
    "denom = area_para(AB, AC)\n",
    "bA_newexpr = area_para(AT, AC) / denom\n",
    "cA_newexpr = area_para(TA, AB) / denom"
   ]
  },
  {
   "cell_type": "code",
   "execution_count": 22,
   "metadata": {},
   "outputs": [
    {
     "data": {
      "text/latex": [
       "$\\displaystyle \\text{True}$"
      ],
      "text/plain": [
       "True"
      ]
     },
     "execution_count": 22,
     "metadata": {},
     "output_type": "execute_result"
    }
   ],
   "source": [
    "simplify(Eq(bA_expr, bA_newexpr))"
   ]
  },
  {
   "cell_type": "code",
   "execution_count": 23,
   "metadata": {},
   "outputs": [
    {
     "data": {
      "text/latex": [
       "$\\displaystyle \\text{True}$"
      ],
      "text/plain": [
       "True"
      ]
     },
     "execution_count": 23,
     "metadata": {},
     "output_type": "execute_result"
    }
   ],
   "source": [
    "simplify(Eq(cA_expr, cA_newexpr))"
   ]
  }
 ],
 "metadata": {
  "kernelspec": {
   "display_name": "Python 3",
   "language": "python",
   "name": "python3"
  },
  "language_info": {
   "codemirror_mode": {
    "name": "ipython",
    "version": 3
   },
   "file_extension": ".py",
   "mimetype": "text/x-python",
   "name": "python",
   "nbconvert_exporter": "python",
   "pygments_lexer": "ipython3",
   "version": "3.9.6"
  }
 },
 "nbformat": 4,
 "nbformat_minor": 4
}
