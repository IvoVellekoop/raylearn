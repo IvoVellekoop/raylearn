{
 "cells": [
  {
   "cell_type": "code",
   "execution_count": 1,
   "id": "7e2b688d-fdb1-4ab7-8825-90fd47ebbb44",
   "metadata": {},
   "outputs": [],
   "source": [
    "from sympy import *\n",
    "fobj2, f9, f10, f11 = symbols('f_{obj2}, f_9, f_{10}, f_{11}', real=True)\n",
    "vobj2, b9, b10 = symbols('v_{obj2}, b_9, b_{10}', real=True)\n",
    "M9, M10 = symbols('M_9, M_{10}', real=True)"
   ]
  },
  {
   "cell_type": "code",
   "execution_count": 2,
   "id": "e56957f0-ec78-44e3-a5c7-5b142bb7cbd3",
   "metadata": {},
   "outputs": [],
   "source": [
    "bobj2 = 1 / (1/fobj2 - 1/vobj2)\n",
    "v9    = 1 / (1/f9    - 1/b9)\n",
    "v10   = 1 / (1/f10   - 1/b10)\n",
    "\n",
    "M9_eq  = Eq(bobj2*b9   / (vobj2*v9),  M9)\n",
    "M10_eq = Eq(bobj2*b10  / (vobj2*v10), M10)"
   ]
  },
  {
   "cell_type": "code",
   "execution_count": 3,
   "id": "1fc140b9-0d9f-404b-a26a-6e5cfb6bb12d",
   "metadata": {},
   "outputs": [
    {
     "data": {
      "text/latex": [
       "$\\displaystyle \\frac{b_{9} \\left(\\frac{1}{f_{9}} - \\frac{1}{b_{9}}\\right)}{v_{obj2} \\left(- \\frac{1}{v_{obj2}} + \\frac{1}{f_{obj2}}\\right)} = M_{9}$"
      ],
      "text/plain": [
       "Eq(b_9*(1/f_9 - 1/b_9)/(v_{obj2}*(-1/v_{obj2} + 1/f_{obj2})), M_9)"
      ]
     },
     "execution_count": 3,
     "metadata": {},
     "output_type": "execute_result"
    }
   ],
   "source": [
    "M9_eq"
   ]
  },
  {
   "cell_type": "code",
   "execution_count": 4,
   "id": "e903602d-dba7-4014-a546-de43c02725a5",
   "metadata": {},
   "outputs": [
    {
     "data": {
      "text/latex": [
       "$\\displaystyle \\frac{b_{10} \\left(\\frac{1}{f_{10}} - \\frac{1}{b_{10}}\\right)}{v_{obj2} \\left(- \\frac{1}{v_{obj2}} + \\frac{1}{f_{obj2}}\\right)} = M_{10}$"
      ],
      "text/plain": [
       "Eq(b_{10}*(1/f_{10} - 1/b_{10})/(v_{obj2}*(-1/v_{obj2} + 1/f_{obj2})), M_{10})"
      ]
     },
     "execution_count": 4,
     "metadata": {},
     "output_type": "execute_result"
    }
   ],
   "source": [
    "M10_eq"
   ]
  },
  {
   "cell_type": "code",
   "execution_count": 5,
   "id": "6e7abbd5-e8cc-477d-bd1c-5abb54b38f5f",
   "metadata": {},
   "outputs": [
    {
     "data": {
      "text/latex": [
       "$\\displaystyle \\frac{f_{9} \\left(- M_{9} f_{obj2} + M_{9} v_{obj2} + f_{obj2}\\right)}{f_{obj2}}$"
      ],
      "text/plain": [
       "f_9*(-M_9*f_{obj2} + M_9*v_{obj2} + f_{obj2})/f_{obj2}"
      ]
     },
     "execution_count": 5,
     "metadata": {},
     "output_type": "execute_result"
    }
   ],
   "source": [
    "solve(M9_eq, b9)[0]"
   ]
  }
 ],
 "metadata": {
  "kernelspec": {
   "display_name": "Python 3",
   "language": "python",
   "name": "python3"
  },
  "language_info": {
   "codemirror_mode": {
    "name": "ipython",
    "version": 3
   },
   "file_extension": ".py",
   "mimetype": "text/x-python",
   "name": "python",
   "nbconvert_exporter": "python",
   "pygments_lexer": "ipython3",
   "version": "3.9.6"
  }
 },
 "nbformat": 4,
 "nbformat_minor": 5
}
