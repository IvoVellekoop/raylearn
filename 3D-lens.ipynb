{
 "cells": [
  {
   "cell_type": "markdown",
   "metadata": {},
   "source": [
    "## 3D Thin Lens ray equations\n",
    "In order to find how a thin lens bends an arbitrary incoming ray, one can consider the following situation:\n",
    "\n",
    "A ray $\\{R,s_0\\}$ (originating from point $R$, in the direction of $s_0$) passes through a thin lens plane $\\{L,\\hat{n}\\}$ at point $P$ and gets bent into the direction $s_1$. A parallel ray $\\{L,s_0\\}$ passes through the lens center $L$, and intersects the original ray at point $Q$ at the focal plane. The focal plane $\\{F,\\hat{n}\\}$ is at a distance $f$ from the thin lens plane. The original ray $\\{R,s_0\\}$ intersects the plane $\\{L,s_0\\}$ at point $K$. The thin lens adds a path length $\\Delta_{TL}$ such that the path lengths of parallel rays are equal at the focal point $Q$, and the distance $\\lVert K-P\\rVert + \\lVert P-Q\\rVert + \\Delta_{TL} = \\lVert L-Q\\rVert$, where $\\Delta_{TL} = \\lVert L-Q\\rVert - \\lVert K-P\\rVert - \\lVert P-Q\\rVert$ depends on the incoming ray's position and direction and parameters of the thin lens. Note that this will not yield a positive/physical path length, as a thin lens plane is not a real object. Hence, this path length will only be meaningful in a relative manner.\n",
    "\n",
    "We mean to find the new ray $\\{P,s_1\\}$ and the $\\Delta_{TL}$, both as functions of the incoming ray $\\{R,s_0\\}$, thin lens plane $\\{L,\\hat{n}\\}$ and focal distance $f$."
   ]
  },
  {
   "cell_type": "markdown",
   "metadata": {},
   "source": [
    "![3D Lens](img/3D-lens.svg)"
   ]
  },
  {
   "cell_type": "code",
   "execution_count": 31,
   "metadata": {},
   "outputs": [
    {
     "name": "stdout",
     "output_type": "stream",
     "text": [
      "Running on CUDA\n"
     ]
    },
    {
     "data": {
      "text/plain": [
       "(tensor([[[0., 1., 2.]]], device='cuda:0'),\n",
       " tensor([[[0., 0., 1.]]], device='cuda:0'),\n",
       " tensor([[[-0.2111]]], device='cuda:0'))"
      ]
     },
     "execution_count": 31,
     "metadata": {},
     "output_type": "execute_result"
    }
   ],
   "source": [
    "import torch\n",
    "\n",
    "if torch.cuda.is_available():\n",
    "    dev = torch.device(\"cuda:0\")\n",
    "    print('Running on CUDA')\n",
    "else:\n",
    "    dev = torch.device(\"cpu\")\n",
    "    print('Running on CPU')\n",
    "    \n",
    "\n",
    "# Define vector space functions\n",
    "def vector3(v):\n",
    "    \"\"\"Create 3D (NxMx3) vector array.\"\"\"\n",
    "    return torch.tensor(v, dtype=torch.float32, device=dev).view(1,1,3)\n",
    "\n",
    "def scalar(s):\n",
    "    \"\"\"Create (NxMx1) scalar array.\"\"\"\n",
    "    return torch.tensor(s, dtype=torch.float32, device=dev).view(1,1,1)\n",
    "\n",
    "def norm(v):\n",
    "    \"\"\"L2-norm for NxMxD vector arrays, where D is vector dimension.\"\"\"\n",
    "    return torch.norm(v, dim=2, keepdim=True)\n",
    "\n",
    "def unit(v):\n",
    "    \"\"\"Unit vectors for NxMxD vector arrays, where D is vector dimension.\"\"\"\n",
    "    return v / norm(v)\n",
    "\n",
    "def inner(v, w):\n",
    "    \"\"\"Vector inner product for NxMxD vector arrays, where D is vector dimension.\"\"\"\n",
    "    return torch.sum(v*w, dim=2, keepdim=True)\n",
    "\n",
    "#### add vector projection and rejection\n",
    "\n",
    "\n",
    "# Define ray operations\n",
    "def dist_to_plane(plane_pos, plane_dir, ray_pos, ray_dir):\n",
    "    \"\"\"Scalar distance along ray to plane.\"\"\"\n",
    "    return inner((plane_pos - ray_pos), (plane_dir)) / inner(ray_dir, plane_dir)\n",
    "    \n",
    "def ray_plane_intersect(plane_pos, plane_dir, ray_pos, ray_dir):\n",
    "    \"\"\"Vector point of ray intersection with plane.\"\"\"\n",
    "    t = dist_to_plane(plane_pos, plane_dir, ray_pos, ray_dir)\n",
    "    return ray_pos + ray_dir*t\n",
    "    \n",
    "    \n",
    "#### Implement directional vector / pos-dir classes, representing rays, or infinite planes; ray.dir, ray.pos, plane.dir, plane.pos\n",
    "    \n",
    "def thinlens(ray_pos, ray_dir, lens_pos, lens_dir, f):\n",
    "    \"\"\"New ray position, direction and additional path length for thin lens.\"\"\"\n",
    "    F = lens_pos - f*lens_dir                                       # Back focal plane center\n",
    "    P = ray_plane_intersect(lens_pos, lens_dir, ray_pos, ray_dir)   # Ray intersection with lens plane\n",
    "    Q = ray_plane_intersect(F, lens_dir, lens_pos, ray_dir)         # Ray intersection with back focal plane\n",
    "    K = ray_plane_intersect(lens_pos, ray_dir, ray_pos, ray_dir)    # Ray intersection with imaginary ray plane\n",
    "    Delta = norm(L-Q) - norm(K-P) - norm(P-Q)                       # Path length term\n",
    "    return P, unit(Q-P), Delta\n",
    "\n",
    "\n",
    "R  = vector3((0,0,0))\n",
    "s0 = unit(vector3((0,1,2)))\n",
    "L  = vector3((0,0,2))\n",
    "nL = vector3((0,0,-1))\n",
    "f  = scalar(2)\n",
    "\n",
    "thinlens(R, s0, L, nL, f)\n",
    "\n",
    "\n",
    "### Implement function for plotting an array of points\n"
   ]
  }
 ],
 "metadata": {
  "kernelspec": {
   "display_name": "Python 3",
   "language": "python",
   "name": "python3"
  },
  "language_info": {
   "codemirror_mode": {
    "name": "ipython",
    "version": 3
   },
   "file_extension": ".py",
   "mimetype": "text/x-python",
   "name": "python",
   "nbconvert_exporter": "python",
   "pygments_lexer": "ipython3",
   "version": "3.8.3"
  }
 },
 "nbformat": 4,
 "nbformat_minor": 4
}
