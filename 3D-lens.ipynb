{
 "cells": [
  {
   "cell_type": "markdown",
   "metadata": {},
   "source": [
    "## 3D Thin Lens ray equations\n",
    "In order to find how a thin lens bends an arbitrary incoming ray, one can consider the following situation:\n",
    "\n",
    "A ray $\\{R,s_0\\}$ (originating from point $R$, in the direction of $s_0$) passes through a thin lens plane $\\{L,\\hat{n}\\}$ at point $P$ and gets bent into the direction $s_1$. A parallel ray $\\{L,s_0\\}$ passes through the lens center $L$, and intersects the original ray at point $Q$ at the focal plane. The focal plane $\\{F,\\hat{n}\\}$ is at a distance $f$ from the thin lens plane.\n",
    "\n",
    "![3D Lens](img/3D-lens.svg)"
   ]
  },
  {
   "cell_type": "markdown",
   "metadata": {},
   "source": [
    "To find the path length shift $\\Delta_{TL}$ introduced by the thin lens, consider a ray originating from the front focal point $F_1$, hitting the lens at point $P$ on the thin lens plane, and continuing parallel to the optical axis. The path length shift $\\Delta_{TL}$ is such that any ray originating from $F_1$ has the same total path length, thus we can write: $\\Delta_{TL} = f - \\sqrt{}$\n",
    "\n",
    "![3D Lens](img/3D-lens-phase.svg)\n",
    "\n",
    "We mean to find the new ray $\\{P,s_1\\}$ and the $\\Delta_{TL}$, both as functions of the incoming ray $\\{R,s_0\\}$, thin lens plane $\\{L,\\hat{n}\\}$ and focal distance $f$."
   ]
  },
  {
   "cell_type": "code",
   "execution_count": 1,
   "metadata": {},
   "outputs": [
    {
     "name": "stdout",
     "output_type": "stream",
     "text": [
      "Running on CUDA\n"
     ]
    },
    {
     "data": {
      "text/plain": [
       "(tensor([[[0., 1., 2.]]], device='cuda:0'),\n",
       " tensor([[[0., 0., 1.]]], device='cuda:0'),\n",
       " tensor([[[-0.2361]]], device='cuda:0'))"
      ]
     },
     "execution_count": 1,
     "metadata": {},
     "output_type": "execute_result"
    }
   ],
   "source": [
    "import torch\n",
    "\n",
    "if torch.cuda.is_available():\n",
    "    dev = torch.device(\"cuda:0\")\n",
    "    print('Running on CUDA')\n",
    "else:\n",
    "    dev = torch.device(\"cpu\")\n",
    "    print('Running on CPU')\n",
    "    \n",
    "\n",
    "# Define vector space functions\n",
    "def vector3(v):\n",
    "    \"\"\"Create 3D (NxMx3) vector array.\"\"\"\n",
    "    return torch.tensor(v, dtype=torch.float32, device=dev).view(1,1,3)\n",
    "\n",
    "def scalar(s):\n",
    "    \"\"\"Create (NxMx1) scalar array.\"\"\"\n",
    "    return torch.tensor(s, dtype=torch.float32, device=dev).view(1,1,1)\n",
    "\n",
    "def inner(v, w):\n",
    "    \"\"\"Vector inner product for NxMxD vector arrays, where D is vector dimension.\"\"\"\n",
    "    return torch.sum(v*w, dim=2, keepdim=True)\n",
    "\n",
    "def normsq(v):\n",
    "    \"\"\"L2-norm squared for NxMxD vector arrays, where D is vector dimension.\"\"\"\n",
    "    return inner(v,v)\n",
    "\n",
    "def norm(v):\n",
    "    \"\"\"L2-norm for NxMxD vector arrays, where D is vector dimension.\"\"\"\n",
    "    return torch.norm(v, dim=2, keepdim=True)\n",
    "\n",
    "def unit(v):\n",
    "    \"\"\"Unit vectors for NxMxD vector arrays, where D is vector dimension.\"\"\"\n",
    "    return v / norm(v)\n",
    "\n",
    "\n",
    "# Define ray operations\n",
    "def dist_to_plane(ray_pos, ray_dir, plane_pos, plane_dir):\n",
    "    \"\"\"Scalar distance along ray to plane.\"\"\"\n",
    "    return inner((plane_pos - ray_pos), (plane_dir)) / inner(ray_dir, plane_dir)\n",
    "    \n",
    "def ray_plane_intersect(ray_pos, ray_dir, plane_pos, plane_dir):\n",
    "    \"\"\"Vector point of ray intersection with plane.\"\"\"\n",
    "    t = dist_to_plane(ray_pos, ray_dir, plane_pos, plane_dir)\n",
    "    return ray_pos + ray_dir*t\n",
    "    \n",
    "    \n",
    "#### Implement directional vector / pos-dir classes, representing rays, or infinite planes; ray.dir, ray.pos, plane.dir, plane.pos\n",
    "    \n",
    "def thinlens(ray_pos, ray_dir, lens_pos, lens_dir, f):\n",
    "    \"\"\"New ray position, direction and additional path length for thin lens.\"\"\"\n",
    "    L = lens_pos\n",
    "    F = L - f*lens_dir                                       # Back focal plane center\n",
    "    P = ray_plane_intersect(ray_pos, ray_dir, L, lens_dir)   # Ray intersection with lens plane\n",
    "    Q = ray_plane_intersect(L, ray_dir, F, lens_dir)         # Ray intersection with back focal plane\n",
    "    Delta = f - torch.sqrt(f*f + normsq(L-P))                # Lens induced phase shift term\n",
    "    return P, unit(Q-P), Delta\n",
    "\n",
    "\n",
    "R  = vector3((0,0,0))\n",
    "s0 = unit(vector3((0,1,2)))\n",
    "L  = vector3((0,0,2))\n",
    "nL = vector3((0,0,-1))\n",
    "f  = scalar(2)\n",
    "\n",
    "thinlens(R, s0, L, nL, f)\n",
    "\n",
    "\n",
    "### Implement function for plotting an array of points\n"
   ]
  }
 ],
 "metadata": {
  "kernelspec": {
   "display_name": "Python 3",
   "language": "python",
   "name": "python3"
  },
  "language_info": {
   "codemirror_mode": {
    "name": "ipython",
    "version": 3
   },
   "file_extension": ".py",
   "mimetype": "text/x-python",
   "name": "python",
   "nbconvert_exporter": "python",
   "pygments_lexer": "ipython3",
   "version": "3.8.3"
  }
 },
 "nbformat": 4,
 "nbformat_minor": 4
}
